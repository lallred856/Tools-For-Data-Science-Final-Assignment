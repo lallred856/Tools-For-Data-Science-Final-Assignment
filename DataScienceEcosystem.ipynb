{
 "cells": [
  {
   "cell_type": "markdown",
   "id": "5991aae9-9bd0-4a87-bef5-ec817f94d8de",
   "metadata": {},
   "source": [
    "# Data Science Tools and Ecosystem"
   ]
  },
  {
   "cell_type": "markdown",
   "id": "4ecb3ce4-3f2b-4250-9e15-6406035451a3",
   "metadata": {},
   "source": [
    "In this notebook, Data Science Tools and Ecosystem are summarized."
   ]
  },
  {
   "cell_type": "markdown",
   "id": "dcfefd59-fb38-4037-8ad5-e8f687a57f08",
   "metadata": {},
   "source": [
    "Some of the popular languages that Data Scientists use are:\n",
    "1. Python\n",
    "2. R\n",
    "3. SQL"
   ]
  },
  {
   "cell_type": "markdown",
   "id": "3959feda-696b-4a37-b36a-59f81e5db561",
   "metadata": {},
   "source": [
    "Some of the commonly used libraries used by Data Scientists include:\n",
    "1. Numpy\n",
    "2. Pandas\n",
    "3. Tensorflow"
   ]
  },
  {
   "cell_type": "markdown",
   "id": "76633ed1-68fd-483f-b036-4418cf9b43cd",
   "metadata": {},
   "source": [
    "**Objectives:**\n",
    "### Data science tools built with Java\n",
    "* Java-ML\n",
    "* Apache MLlib\n",
    "* Weka\n",
    "* Deeplearning4"
   ]
  },
  {
   "cell_type": "markdown",
   "id": "0c79475c-a860-494d-9f3d-cf36b4bef8c4",
   "metadata": {},
   "source": [
    "||Data Science Tools||\n",
    "|---|---|---|\n",
    "|Anaconda|Rstudio|Visual Studio|"
   ]
  },
  {
   "cell_type": "markdown",
   "id": "3175617f-dc21-47dd-bd83-e56985f332ec",
   "metadata": {},
   "source": [
    "### Below are a few examples of evaluating arithmetic expressions in Python"
   ]
  },
  {
   "cell_type": "code",
   "execution_count": 4,
   "id": "c3a54b31-3fb5-44ef-88cd-356788b255a8",
   "metadata": {},
   "outputs": [
    {
     "data": {
      "text/plain": [
       "17"
      ]
     },
     "execution_count": 4,
     "metadata": {},
     "output_type": "execute_result"
    }
   ],
   "source": [
    "# This a simple arithmetic expression to mutiply then add integers\n",
    "(3*4)+5"
   ]
  },
  {
   "cell_type": "code",
   "execution_count": 5,
   "id": "3b0fc404-c011-42cb-bf6a-065ab51ca13f",
   "metadata": {},
   "outputs": [
    {
     "name": "stdout",
     "output_type": "stream",
     "text": [
      "3.3333333333333335\n"
     ]
    }
   ],
   "source": [
    "# This will convert 200 minutes to hours by diving by 60\n",
    "hours = 200/60\n",
    "print(hours)"
   ]
  },
  {
   "cell_type": "markdown",
   "id": "4666f8ca-1a1c-468c-baad-7d8f51f85c8e",
   "metadata": {},
   "source": [
    "## Author\n",
    "Leighton"
   ]
  },
  {
   "cell_type": "code",
   "execution_count": null,
   "id": "f7596a97-c5ad-4ccb-9260-a8f54b9cd73f",
   "metadata": {},
   "outputs": [],
   "source": []
  }
 ],
 "metadata": {
  "kernelspec": {
   "display_name": "Python 3 (ipykernel)",
   "language": "python",
   "name": "python3"
  },
  "language_info": {
   "codemirror_mode": {
    "name": "ipython",
    "version": 3
   },
   "file_extension": ".py",
   "mimetype": "text/x-python",
   "name": "python",
   "nbconvert_exporter": "python",
   "pygments_lexer": "ipython3",
   "version": "3.11.9"
  }
 },
 "nbformat": 4,
 "nbformat_minor": 5
}
